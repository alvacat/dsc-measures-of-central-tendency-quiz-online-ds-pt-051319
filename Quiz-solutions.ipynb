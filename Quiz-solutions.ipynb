{
 "cells": [
  {
   "cell_type": "code",
   "execution_count": 1,
   "metadata": {},
   "outputs": [
    {
     "data": {
      "text/plain": [
       "18.0"
      ]
     },
     "execution_count": 1,
     "metadata": {},
     "output_type": "execute_result"
    }
   ],
   "source": [
    "question_1_list=[19, 18, 21, 16, 15, 17, 20, 18]\n",
    "\n",
    "def mean(dataset):\n",
    "    sum_of_items=0\n",
    "    for item in dataset:\n",
    "        sum_of_items = sum_of_items + item\n",
    "    return sum_of_items/len(dataset)\n",
    "mean(question_1_list)"
   ]
  },
  {
   "cell_type": "code",
   "execution_count": 9,
   "metadata": {},
   "outputs": [
    {
     "data": {
      "text/plain": [
       "11"
      ]
     },
     "execution_count": 9,
     "metadata": {},
     "output_type": "execute_result"
    }
   ],
   "source": [
    "question_2_list=[22, 56, 11, 4, -17, 6, 80]\n",
    "\n",
    "def median(dataset):\n",
    "    dataset.sort()\n",
    "    if len(dataset)%2==0:\n",
    "        high=dataset[int(len(dataset)/2)]\n",
    "        low=dataset[int(len(dataset)/2) - 1]\n",
    "        median=mean([high,low])\n",
    "    else:\n",
    "        median=dataset[int((len(dataset)-1)/2)]\n",
    "    return median\n",
    "median(question_2_list)"
   ]
  },
  {
   "cell_type": "code",
   "execution_count": 10,
   "metadata": {},
   "outputs": [
    {
     "data": {
      "text/plain": [
       "8.5"
      ]
     },
     "execution_count": 10,
     "metadata": {},
     "output_type": "execute_result"
    }
   ],
   "source": [
    "question_3_list=[22, 56, 11, 4, -17, 6, 80, -126]\n",
    "median(question_3_list)"
   ]
  },
  {
   "cell_type": "code",
   "execution_count": 53,
   "metadata": {},
   "outputs": [
    {
     "data": {
      "text/plain": [
       "[18]"
      ]
     },
     "execution_count": 53,
     "metadata": {},
     "output_type": "execute_result"
    }
   ],
   "source": [
    "question_4_list=[19, 18, 21, 16, 15, 17, 20, 18]\n",
    "def mode(dataset):\n",
    "    numbers=list(set(question_4_list)) #list of unique numbers in the dataset\n",
    "    counting={} #for storing the numbers and their counts\n",
    "    modes=[] #for storing the mode(s). it's a list because there could be more than one mode\n",
    "    for number in numbers:\n",
    "        counting.update({number:question_4_list.count(number)}) #counts the appearance of each number in the dataset\n",
    "    biggest_count=max(counting.values()) #finds the biggest count\n",
    "    i=0\n",
    "    for i in range(len(counting)): #looks through the counting list to figure out which number(s) have the highest count\n",
    "        if counting[numbers[i]]==biggest_count:\n",
    "            modes.append(numbers[i])\n",
    "        else:\n",
    "            continue\n",
    "    return modes\n",
    "mode(question_4_list)\n",
    "                        \n",
    "        "
   ]
  },
  {
   "cell_type": "code",
   "execution_count": null,
   "metadata": {},
   "outputs": [],
   "source": []
  }
 ],
 "metadata": {
  "kernelspec": {
   "display_name": "Python 3",
   "language": "python",
   "name": "python3"
  },
  "language_info": {
   "codemirror_mode": {
    "name": "ipython",
    "version": 3
   },
   "file_extension": ".py",
   "mimetype": "text/x-python",
   "name": "python",
   "nbconvert_exporter": "python",
   "pygments_lexer": "ipython3",
   "version": "3.7.3"
  }
 },
 "nbformat": 4,
 "nbformat_minor": 2
}
